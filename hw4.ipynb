{
 "cells": [
  {
   "cell_type": "code",
   "execution_count": 28,
   "metadata": {},
   "outputs": [
    {
     "name": "stdout",
     "output_type": "stream",
     "text": [
      "<class 'pandas.core.frame.DataFrame'>\n",
      "RangeIndex: 253680 entries, 0 to 253679\n",
      "Data columns (total 22 columns):\n",
      " #   Column                 Non-Null Count   Dtype\n",
      "---  ------                 --------------   -----\n",
      " 0   Diabetes               253680 non-null  int64\n",
      " 1   HighBP                 253680 non-null  int64\n",
      " 2   HighChol               253680 non-null  int64\n",
      " 3   BMI                    253680 non-null  int64\n",
      " 4   Smoker                 253680 non-null  int64\n",
      " 5   Stroke                 253680 non-null  int64\n",
      " 6   Myocardial             253680 non-null  int64\n",
      " 7   PhysActivity           253680 non-null  int64\n",
      " 8   Fruit                  253680 non-null  int64\n",
      " 9   Vegetables             253680 non-null  int64\n",
      " 10  HeavyDrinker           253680 non-null  int64\n",
      " 11  HasHealthcare          253680 non-null  int64\n",
      " 12  NotAbleToAffordDoctor  253680 non-null  int64\n",
      " 13  GeneralHealth          253680 non-null  int64\n",
      " 14  MentalHealth           253680 non-null  int64\n",
      " 15  PhysicalHealth         253680 non-null  int64\n",
      " 16  HardToClimbStairs      253680 non-null  int64\n",
      " 17  BiologicalSex          253680 non-null  int64\n",
      " 18  AgeBracket             253680 non-null  int64\n",
      " 19  EducationBracket       253680 non-null  int64\n",
      " 20  IncomeBracket          253680 non-null  int64\n",
      " 21  Zodiac                 253680 non-null  int64\n",
      "dtypes: int64(22)\n",
      "memory usage: 42.6 MB\n"
     ]
    }
   ],
   "source": [
    "import pandas as pd\n",
    "from matplotlib import pyplot as plt\n",
    "from sklearn.preprocessing import StandardScaler\n",
    "import numpy as np\n",
    "from sklearn.model_selection import train_test_split\n",
    "from sklearn.datasets import load_iris\n",
    "from sklearn.linear_model import Perceptron\n",
    "from sklearn import model_selection\n",
    "import matplotlib.pyplot as plt\n",
    "df = pd.read_csv(\"diabetes.csv\")\n",
    "df.info()"
   ]
  },
  {
   "cell_type": "code",
   "execution_count": 29,
   "metadata": {},
   "outputs": [
    {
     "data": {
      "text/html": [
       "<div>\n",
       "<style scoped>\n",
       "    .dataframe tbody tr th:only-of-type {\n",
       "        vertical-align: middle;\n",
       "    }\n",
       "\n",
       "    .dataframe tbody tr th {\n",
       "        vertical-align: top;\n",
       "    }\n",
       "\n",
       "    .dataframe thead th {\n",
       "        text-align: right;\n",
       "    }\n",
       "</style>\n",
       "<table border=\"1\" class=\"dataframe\">\n",
       "  <thead>\n",
       "    <tr style=\"text-align: right;\">\n",
       "      <th></th>\n",
       "      <th>Diabetes</th>\n",
       "      <th>HighBP</th>\n",
       "      <th>HighChol</th>\n",
       "      <th>BMI</th>\n",
       "      <th>Smoker</th>\n",
       "      <th>Stroke</th>\n",
       "      <th>Myocardial</th>\n",
       "      <th>PhysActivity</th>\n",
       "      <th>Fruit</th>\n",
       "      <th>Vegetables</th>\n",
       "      <th>...</th>\n",
       "      <th>NotAbleToAffordDoctor</th>\n",
       "      <th>GeneralHealth</th>\n",
       "      <th>MentalHealth</th>\n",
       "      <th>PhysicalHealth</th>\n",
       "      <th>HardToClimbStairs</th>\n",
       "      <th>BiologicalSex</th>\n",
       "      <th>AgeBracket</th>\n",
       "      <th>EducationBracket</th>\n",
       "      <th>IncomeBracket</th>\n",
       "      <th>Zodiac</th>\n",
       "    </tr>\n",
       "  </thead>\n",
       "  <tbody>\n",
       "    <tr>\n",
       "      <th>0</th>\n",
       "      <td>0</td>\n",
       "      <td>1</td>\n",
       "      <td>1</td>\n",
       "      <td>40</td>\n",
       "      <td>1</td>\n",
       "      <td>0</td>\n",
       "      <td>0</td>\n",
       "      <td>0</td>\n",
       "      <td>0</td>\n",
       "      <td>1</td>\n",
       "      <td>...</td>\n",
       "      <td>0</td>\n",
       "      <td>5</td>\n",
       "      <td>18</td>\n",
       "      <td>15</td>\n",
       "      <td>1</td>\n",
       "      <td>1</td>\n",
       "      <td>9</td>\n",
       "      <td>4</td>\n",
       "      <td>3</td>\n",
       "      <td>10</td>\n",
       "    </tr>\n",
       "    <tr>\n",
       "      <th>1</th>\n",
       "      <td>0</td>\n",
       "      <td>0</td>\n",
       "      <td>0</td>\n",
       "      <td>25</td>\n",
       "      <td>1</td>\n",
       "      <td>0</td>\n",
       "      <td>0</td>\n",
       "      <td>1</td>\n",
       "      <td>0</td>\n",
       "      <td>0</td>\n",
       "      <td>...</td>\n",
       "      <td>1</td>\n",
       "      <td>3</td>\n",
       "      <td>0</td>\n",
       "      <td>0</td>\n",
       "      <td>0</td>\n",
       "      <td>1</td>\n",
       "      <td>7</td>\n",
       "      <td>6</td>\n",
       "      <td>1</td>\n",
       "      <td>11</td>\n",
       "    </tr>\n",
       "    <tr>\n",
       "      <th>2</th>\n",
       "      <td>0</td>\n",
       "      <td>1</td>\n",
       "      <td>1</td>\n",
       "      <td>28</td>\n",
       "      <td>0</td>\n",
       "      <td>0</td>\n",
       "      <td>0</td>\n",
       "      <td>0</td>\n",
       "      <td>1</td>\n",
       "      <td>0</td>\n",
       "      <td>...</td>\n",
       "      <td>1</td>\n",
       "      <td>5</td>\n",
       "      <td>30</td>\n",
       "      <td>30</td>\n",
       "      <td>1</td>\n",
       "      <td>1</td>\n",
       "      <td>9</td>\n",
       "      <td>4</td>\n",
       "      <td>8</td>\n",
       "      <td>2</td>\n",
       "    </tr>\n",
       "    <tr>\n",
       "      <th>3</th>\n",
       "      <td>0</td>\n",
       "      <td>1</td>\n",
       "      <td>0</td>\n",
       "      <td>27</td>\n",
       "      <td>0</td>\n",
       "      <td>0</td>\n",
       "      <td>0</td>\n",
       "      <td>1</td>\n",
       "      <td>1</td>\n",
       "      <td>1</td>\n",
       "      <td>...</td>\n",
       "      <td>0</td>\n",
       "      <td>2</td>\n",
       "      <td>0</td>\n",
       "      <td>0</td>\n",
       "      <td>0</td>\n",
       "      <td>1</td>\n",
       "      <td>11</td>\n",
       "      <td>3</td>\n",
       "      <td>6</td>\n",
       "      <td>11</td>\n",
       "    </tr>\n",
       "    <tr>\n",
       "      <th>4</th>\n",
       "      <td>0</td>\n",
       "      <td>1</td>\n",
       "      <td>1</td>\n",
       "      <td>24</td>\n",
       "      <td>0</td>\n",
       "      <td>0</td>\n",
       "      <td>0</td>\n",
       "      <td>1</td>\n",
       "      <td>1</td>\n",
       "      <td>1</td>\n",
       "      <td>...</td>\n",
       "      <td>0</td>\n",
       "      <td>2</td>\n",
       "      <td>3</td>\n",
       "      <td>0</td>\n",
       "      <td>0</td>\n",
       "      <td>1</td>\n",
       "      <td>11</td>\n",
       "      <td>5</td>\n",
       "      <td>4</td>\n",
       "      <td>8</td>\n",
       "    </tr>\n",
       "  </tbody>\n",
       "</table>\n",
       "<p>5 rows × 22 columns</p>\n",
       "</div>"
      ],
      "text/plain": [
       "   Diabetes  HighBP  HighChol  BMI  Smoker  Stroke  Myocardial  PhysActivity  \\\n",
       "0         0       1         1   40       1       0           0             0   \n",
       "1         0       0         0   25       1       0           0             1   \n",
       "2         0       1         1   28       0       0           0             0   \n",
       "3         0       1         0   27       0       0           0             1   \n",
       "4         0       1         1   24       0       0           0             1   \n",
       "\n",
       "   Fruit  Vegetables  ...  NotAbleToAffordDoctor  GeneralHealth  MentalHealth  \\\n",
       "0      0           1  ...                      0              5            18   \n",
       "1      0           0  ...                      1              3             0   \n",
       "2      1           0  ...                      1              5            30   \n",
       "3      1           1  ...                      0              2             0   \n",
       "4      1           1  ...                      0              2             3   \n",
       "\n",
       "   PhysicalHealth  HardToClimbStairs  BiologicalSex  AgeBracket  \\\n",
       "0              15                  1              1           9   \n",
       "1               0                  0              1           7   \n",
       "2              30                  1              1           9   \n",
       "3               0                  0              1          11   \n",
       "4               0                  0              1          11   \n",
       "\n",
       "   EducationBracket  IncomeBracket  Zodiac  \n",
       "0                 4              3      10  \n",
       "1                 6              1      11  \n",
       "2                 4              8       2  \n",
       "3                 3              6      11  \n",
       "4                 5              4       8  \n",
       "\n",
       "[5 rows x 22 columns]"
      ]
     },
     "execution_count": 29,
     "metadata": {},
     "output_type": "execute_result"
    }
   ],
   "source": [
    "df.head()"
   ]
  },
  {
   "attachments": {},
   "cell_type": "markdown",
   "metadata": {},
   "source": [
    "1\n"
   ]
  },
  {
   "cell_type": "code",
   "execution_count": 30,
   "metadata": {},
   "outputs": [],
   "source": [
    "from sklearn.datasets import load_iris\n",
    "from sklearn.model_selection import train_test_split\n",
    "from sklearn.linear_model import Perceptron\n",
    "from sklearn import metrics\n",
    "\n",
    "def myPerceptron(X, y, random_state):\n",
    "    X_train, X_test, y_train, y_test = train_test_split(X, y, test_size=0.3, random_state=random_state)\n",
    "    clf = Perceptron(tol=1e-3, random_state=0, class_weight = 'balanced')\n",
    "    clf.fit(X_train, y_train)\n",
    "    y_pred = clf.predict(X_test)\n",
    "    auc_roc = metrics.roc_auc_score(y_test, y_pred)\n",
    "    print('*AUC is ', auc_roc)\n",
    "    print('')\n",
    "    return clf\n"
   ]
  },
  {
   "cell_type": "code",
   "execution_count": 31,
   "metadata": {},
   "outputs": [],
   "source": [
    "predictors = ['HighBP', 'HighChol', 'BMI', 'Smoker','Stroke','Myocardial','PhysActivity','Fruit','Vegetables','HeavyDrinker','HasHealthcare','NotAbleToAffordDoctor','GeneralHealth','MentalHealth','PhysicalHealth','HardToClimbStairs', 'BiologicalSex', 'AgeBracket', 'EducationBracket', 'IncomeBracket', 'Zodiac']\n",
    "X = df[predictors]\n",
    "y = df['Diabetes']\n",
    "scaled = StandardScaler().fit_transform(X)\n",
    "scaled = pd.DataFrame(scaled, columns=X.columns)"
   ]
  },
  {
   "cell_type": "code",
   "execution_count": 20,
   "metadata": {},
   "outputs": [
    {
     "name": "stdout",
     "output_type": "stream",
     "text": [
      "*AUC is  0.622603402033001\n",
      "\n"
     ]
    }
   ],
   "source": [
    "model = myPerceptron(scaled, y, 0)"
   ]
  },
  {
   "attachments": {},
   "cell_type": "markdown",
   "metadata": {},
   "source": [
    "Build and train a Perceptron (one input layer, one output layer, no hidden layers and no activation functions) to classify diabetes from the rest of the dataset. What is the AUC of this model?\n",
    "\n",
    "I built a Perceptron function that takes in three arguments: predictors, target and random state. I split data into training and testing sets and fitted the perceptron with balanced class_weight. Finally, I computed AUC.\n",
    "\n",
    "\n",
    "I set 1e-3 for the tolerance for the stopping criterion. If the change in the error function between iterations is less than tol, then the algorithm will terminate. The balanced option will automatically adjust the weights based on the number of samples in each class.\n",
    "\n",
    "The result shows that the AUC is 0.622603402033001, which is not very high comparing the result from last homework\n",
    "\n",
    "This result indicates that in order to obtain a better AUC for the perceptron algorithm on the given data, we may need to modify or fine-tune the algorithm's parameters.\n",
    "\n",
    "\n",
    "\n"
   ]
  },
  {
   "attachments": {},
   "cell_type": "markdown",
   "metadata": {},
   "source": [
    "2"
   ]
  },
  {
   "cell_type": "code",
   "execution_count": 21,
   "metadata": {},
   "outputs": [],
   "source": [
    "import pandas as pd\n",
    "import numpy as np\n",
    "import torch\n",
    "import torch.nn as nn\n",
    "from sklearn.model_selection import train_test_split\n",
    "from sklearn.preprocessing import StandardScaler\n",
    "from sklearn.metrics import roc_auc_score\n",
    "import torch.optim as optim\n",
    "\n",
    "\n",
    "\n",
    "# Define the neural network\n",
    "class DiabetesClassifier1(nn.Module):\n",
    "    def __init__(self, input_dim, hidden_dim, output_dim, number_of_hidden,activation):\n",
    "        super(DiabetesClassifier1, self).__init__()\n",
    "        self.input_layer = nn.Linear(input_dim, hidden_dim)\n",
    "        self.hidden_layer = nn.ModuleList()\n",
    "        for i in range (number_of_hidden):\n",
    "            self.hidden_layer.append(nn.Linear(hidden_dim, hidden_dim))\n",
    "        self.output_layer = nn.Linear(hidden_dim, output_dim)\n",
    "\n",
    "        if activation == 'relu':\n",
    "            self.activation1 = nn.ReLU()\n",
    "        elif activation == 'sigmod':\n",
    "            self.activation1 = nn.Sigmoid()\n",
    "        else:\n",
    "            self.activation1 = nn.Identity()\n",
    "\n",
    "\n",
    "        \n",
    "    def forward(self, x):\n",
    "        x = self.activation1(self.input_layer(x))\n",
    "        for l in self.hidden_layer:\n",
    "            x = self.activation1(l(x))\n",
    "        x = self.output_layer(x)\n",
    "        return x\n",
    "    \n",
    "\n",
    "def train(X_train1, X_test1, y_train1, y_test1,number_of_hidden,activation):\n",
    "    input_dim = X_train1.shape[1]\n",
    "    hidden_dim = 10\n",
    "    output_dim = 1\n",
    "    learning_rate = 0.05\n",
    "\n",
    "    num_epochs = 100\n",
    "\n",
    "    model = DiabetesClassifier1(input_dim, hidden_dim, output_dim, number_of_hidden, activation)\n",
    "    criterion = nn.BCEWithLogitsLoss()\n",
    "    optimizer = optim.Adam(model.parameters(), lr=learning_rate)\n",
    "\n",
    "    for epoch in range(num_epochs):\n",
    "        optimizer.zero_grad()\n",
    "        outputs = model(torch.from_numpy(X_train1.values).float())\n",
    "        loss = criterion(outputs, torch.from_numpy(y_train1.values).float().view(-1,1))\n",
    "        loss.backward()\n",
    "\n",
    "        optimizer.step()\n",
    "    with torch.no_grad():\n",
    "        auc = roc_auc_score(y_test1.values, torch.sigmoid(model(torch.from_numpy(X_test1.values).float())).numpy().flatten()) # Convert Pandas Series to numpy arrays\n",
    "    return auc\n",
    "\n"
   ]
  },
  {
   "cell_type": "code",
   "execution_count": 23,
   "metadata": {},
   "outputs": [
    {
     "name": "stdout",
     "output_type": "stream",
     "text": [
      " n=1, f=relu, auc=0.8299\n",
      " n=1, f=sigmoid, auc=0.8235\n",
      " n=1, f=linear, auc=0.8235\n",
      " n=2, f=relu, auc=0.8294\n",
      " n=2, f=sigmoid, auc=0.8235\n",
      " n=2, f=linear, auc=0.8235\n"
     ]
    }
   ],
   "source": [
    "functions = ['relu', 'sigmoid', 'linear']\n",
    "num = [1,2]\n",
    "X_train, X_test, y_train, y_test = train_test_split(scaled, y, test_size=0.3, random_state=0)\n",
    "for n in num:\n",
    "    for f in functions:\n",
    "        value = train(X_train, X_test, y_train, y_test, n, f)\n",
    "        print(f\" n={n}, f={f}, auc={value:.4f}\")"
   ]
  },
  {
   "attachments": {},
   "cell_type": "markdown",
   "metadata": {},
   "source": [
    "Build and train a feedforward neural network with at least one hidden layer to classify diabetes from the rest of the dataset. Make sure to try different numbers of hidden layers and different activation functions (at a minimum reLU and sigmoid). Doing so: How does AUC vary as a function of the number of hidden layers and is it dependent on the kind of activation function used (make sure to include “no activation function” in your comparison). How does this network perform relative to the Perceptron?\n",
    "\n",
    "I built a neural network model, and I tried different number of layers, different algorithm and I computed the value of AUC for each case.\n",
    "\n",
    "BCEWithLogitsLoss was used for criterion to combine the sigmoid activation and binary cross-entropy loss into a single function.\n",
    "Also the number of hidden units and other variable were set\n",
    "\n",
    "The result shows that auc are around 0.8, the number of layers did not show too much difference. In terms of activation function, Relu shows better performance.\n",
    "\n",
    "Based on the results obtained, we can conclude that the number of hidden layers in the neural network does not have a significant impact on the AUC value, while the choice of activation function has only a minor effect."
   ]
  },
  {
   "attachments": {},
   "cell_type": "markdown",
   "metadata": {},
   "source": [
    "3\n"
   ]
  },
  {
   "cell_type": "code",
   "execution_count": 26,
   "metadata": {},
   "outputs": [],
   "source": [
    "import torch\n",
    "import torch.nn as nn\n",
    "from sklearn.model_selection import train_test_split\n",
    "import numpy as np\n",
    "from sklearn.metrics import roc_auc_score\n",
    "\n",
    "class CNN(nn.Module):\n",
    "    def __init__(self):\n",
    "        super(CNN, self).__init__()\n",
    "        self.cnn1 = nn.Conv1d(1, 32, kernel_size=3, padding=1)\n",
    "        self.cnn2 = nn.Conv1d(32, 64, kernel_size=3, padding=1)\n",
    "        self.pool = nn.MaxPool1d(kernel_size=2, stride=2)\n",
    "        self.fc1 = nn.Linear(64*5, 128)\n",
    "        self.fc2 = nn.Linear(128, 2)\n",
    "        \n",
    "    def forward(self, x):\n",
    "        x = self.cnn1(x)\n",
    "        x = nn.functional.relu(x)\n",
    "        x = self.pool(x)\n",
    "        x = self.cnn2(x)\n",
    "        x = nn.functional.relu(x)\n",
    "        x = self.pool(x)\n",
    "        x = x.view(-1, 64*5)\n",
    "        x = self.fc1(x)\n",
    "        x = nn.functional.relu(x)\n",
    "        x = self.fc2(x)\n",
    "        return x"
   ]
  },
  {
   "cell_type": "code",
   "execution_count": 27,
   "metadata": {},
   "outputs": [
    {
     "name": "stderr",
     "output_type": "stream",
     "text": [
      "[W NNPACK.cpp:51] Could not initialize NNPACK! Reason: Unsupported hardware.\n"
     ]
    },
    {
     "name": "stdout",
     "output_type": "stream",
     "text": [
      "Epoch [10/100], Loss: 0.4138\n",
      "Epoch [20/100], Loss: 0.3464\n",
      "Epoch [30/100], Loss: 0.3319\n",
      "Epoch [40/100], Loss: 0.3250\n",
      "Epoch [50/100], Loss: 0.3210\n",
      "Epoch [60/100], Loss: 0.3186\n",
      "Epoch [70/100], Loss: 0.3168\n",
      "Epoch [80/100], Loss: 0.3155\n",
      "Epoch [90/100], Loss: 0.3147\n",
      "Epoch [100/100], Loss: 0.3141\n",
      "AUC:  0.8280848221597302\n"
     ]
    }
   ],
   "source": [
    "\n",
    "X_train, X_test, y_train, y_test = train_test_split(scaled.values, y.values, test_size=0.3, random_state=0)\n",
    "xr, yr = torch.from_numpy(X_train.astype(np.float32)).unsqueeze(1), torch.from_numpy(y_train.astype(np.int64))\n",
    "xe, ye = torch.from_numpy(X_test.astype(np.float32)).unsqueeze(1), torch.from_numpy(y_test.astype(np.int64))\n",
    "\n",
    "num_epochs = 100\n",
    "learning_rate = 0.01\n",
    "model = CNN()\n",
    "\n",
    "criterion = nn.CrossEntropyLoss()\n",
    "optimizer = torch.optim.Adam(model.parameters(), lr=learning_rate)\n",
    "for epoch in range(num_epochs):\n",
    "    loss = criterion(model(xr),yr)\n",
    "    optimizer.zero_grad()\n",
    "    loss.backward()\n",
    "    optimizer.step()\n",
    "    if (epoch+1) % 10 == 0:\n",
    "        print('Epoch [%d/%d], Loss: %.4f' % (epoch+1, num_epochs, loss.item()))\n",
    "with torch.no_grad():\n",
    "    outputs = model(xe)\n",
    "    pred = torch.max(outputs.data,1)[1]\n",
    "    y_scores = nn.functional.softmax(outputs,dim =1 )[:,1].numpy()\n",
    "    auc = roc_auc_score(ye.numpy(), y_scores)\n",
    "print('AUC: ', auc)"
   ]
  },
  {
   "attachments": {},
   "cell_type": "markdown",
   "metadata": {},
   "source": [
    "Build and train a “deep” network (at least 2 hidden layers) to classify diabetes from the rest of the dataset. Given the nature of this dataset, is there a benefit of using a CNN or RNN for the classification?\n",
    "\n",
    "I built a CNN model, which consists of two convolutional layers with ReLU activation, each followed by a max-pooling layer. This network can be used to classify 1D input sequences into two classes.\n",
    "\n",
    "CrossEntropyLoss were used for criterion because it computes the cross-entropy loss between the predicted class probabilities and the ground truth labels. Also the loss was computed in each epoch to minimize the loss function.\n",
    "\n",
    "the AUC is 0.828 which is a little better than the result from last question\n",
    "\n",
    "The result shows that the auc is little higher than neural network with one or two hidden layers. However, I do not think it is worth to use CNN or RNN. CNN is often used for data that has a spatial or temporal structure and RNN is often used for data that has a sequential or time-dependent structure. Both CNN and RNN are computationally expensive and can be slow to train on large datasets."
   ]
  },
  {
   "attachments": {},
   "cell_type": "markdown",
   "metadata": {},
   "source": [
    "4"
   ]
  },
  {
   "cell_type": "code",
   "execution_count": 32,
   "metadata": {},
   "outputs": [],
   "source": [
    "predictors1 = ['Diabetes','HighBP', 'HighChol', 'Smoker','Stroke','Myocardial','PhysActivity','Fruit','Vegetables','HeavyDrinker','HasHealthcare','NotAbleToAffordDoctor','GeneralHealth','MentalHealth','PhysicalHealth','HardToClimbStairs', 'BiologicalSex', 'AgeBracket', 'EducationBracket', 'IncomeBracket', 'Zodiac']\n",
    "X1 = df[predictors1]\n",
    "y1 = df['BMI']\n",
    "from sklearn.preprocessing import MinMaxScaler\n",
    "\n",
    "scaler = MinMaxScaler()\n",
    "y1 = scaler.fit_transform(y1.values.reshape(-1, 1))\n",
    "scaled1 = StandardScaler().fit_transform(X1)\n",
    "scaled1 = pd.DataFrame(scaled1, columns=X1.columns)"
   ]
  },
  {
   "cell_type": "code",
   "execution_count": 41,
   "metadata": {},
   "outputs": [
    {
     "name": "stderr",
     "output_type": "stream",
     "text": [
      "/Users/yanggezheng/anaconda3/lib/python3.10/site-packages/sklearn/neural_network/_multilayer_perceptron.py:1617: DataConversionWarning: A column-vector y was passed when a 1d array was expected. Please change the shape of y to (n_samples, ), for example using ravel().\n",
      "  y = column_or_1d(y, warn=True)\n"
     ]
    },
    {
     "name": "stdout",
     "output_type": "stream",
     "text": [
      "0.07659163137150962\n"
     ]
    },
    {
     "name": "stderr",
     "output_type": "stream",
     "text": [
      "/Users/yanggezheng/anaconda3/lib/python3.10/site-packages/sklearn/neural_network/_multilayer_perceptron.py:1617: DataConversionWarning: A column-vector y was passed when a 1d array was expected. Please change the shape of y to (n_samples, ), for example using ravel().\n",
      "  y = column_or_1d(y, warn=True)\n"
     ]
    },
    {
     "name": "stdout",
     "output_type": "stream",
     "text": [
      "0.35365862722637986\n"
     ]
    },
    {
     "name": "stderr",
     "output_type": "stream",
     "text": [
      "/Users/yanggezheng/anaconda3/lib/python3.10/site-packages/sklearn/neural_network/_multilayer_perceptron.py:1617: DataConversionWarning: A column-vector y was passed when a 1d array was expected. Please change the shape of y to (n_samples, ), for example using ravel().\n",
      "  y = column_or_1d(y, warn=True)\n"
     ]
    },
    {
     "name": "stdout",
     "output_type": "stream",
     "text": [
      "0.10531186257280778\n"
     ]
    },
    {
     "name": "stderr",
     "output_type": "stream",
     "text": [
      "/Users/yanggezheng/anaconda3/lib/python3.10/site-packages/sklearn/neural_network/_multilayer_perceptron.py:1617: DataConversionWarning: A column-vector y was passed when a 1d array was expected. Please change the shape of y to (n_samples, ), for example using ravel().\n",
      "  y = column_or_1d(y, warn=True)\n"
     ]
    },
    {
     "name": "stdout",
     "output_type": "stream",
     "text": [
      "0.07499549948581513\n"
     ]
    }
   ],
   "source": [
    "import pandas as pd\n",
    "import numpy as np\n",
    "import torch\n",
    "import torch.nn as nn\n",
    "from sklearn.model_selection import train_test_split\n",
    "from sklearn.preprocessing import StandardScaler\n",
    "from sklearn.metrics import mean_squared_error\n",
    "from sklearn.neural_network import MLPRegressor\n",
    "\n",
    "\n",
    "def BMIPredictor(scaled1,y1,num, activation, lr):\n",
    "    X_train1, X_test1, y_train1, y_test1 = train_test_split(scaled1, y1, test_size=0.3, random_state=0)\n",
    "    mlp = MLPRegressor(hidden_layer_sizes=num, activation=activation, solver= 'adam', max_iter=200, learning_rate_init=lr)\n",
    "    mlp.fit(X_train1, y_train1)\n",
    "    y_pred = mlp.predict(X_test1)\n",
    "    return mean_squared_error(y_test1, y_pred, squared=False)\n",
    "functions = ['relu', 'identity', 'tanh','logistic']\n",
    "for i in functions:\n",
    "    print(BMIPredictor(scaled1, y1,100, i, 0.1))\n",
    "\n"
   ]
  },
  {
   "attachments": {},
   "cell_type": "markdown",
   "metadata": {},
   "source": [
    "Build and train a feedforward neural network with one hidden layer to predict BMI from the rest of the dataset. Use RMSE to assess the accuracy of your model. Does the RMSE depend on the activation function used?\n",
    "\n",
    "\n",
    "I changed the target from Diabetes to BMI. I did the same way as before. Since theoretically BMI can go from 0 to infinity so I normalize it to 0 to 1\n",
    "\n",
    "\n",
    "MLPRegressor were used to predictor BMI. I set adam for solver and the solver will run for a maximum of 200 iterations. Other parameters can be set by passing in\n",
    "\n",
    "The result for relu and logistic are about 0.07, for identity is 0.35, for tanh is 0.1\n",
    "\n",
    "According to the findings, the activation functions \"relu\" and \"logistic\" have the lowest RMSE (root mean square error), which suggests they perform better than \"identity\" and \"tanh\" whose RMSE is slightly higher. The reason is probably identity returns the same value as the input without any transformation and Tanh maps the input to a range between -1 and 1 which do not fit with the dataset"
   ]
  },
  {
   "attachments": {},
   "cell_type": "markdown",
   "metadata": {},
   "source": [
    "5"
   ]
  },
  {
   "cell_type": "code",
   "execution_count": 34,
   "metadata": {},
   "outputs": [
    {
     "name": "stderr",
     "output_type": "stream",
     "text": [
      "/Users/yanggezheng/anaconda3/lib/python3.10/site-packages/sklearn/neural_network/_multilayer_perceptron.py:1617: DataConversionWarning: A column-vector y was passed when a 1d array was expected. Please change the shape of y to (n_samples, ), for example using ravel().\n",
      "  y = column_or_1d(y, warn=True)\n"
     ]
    },
    {
     "name": "stdout",
     "output_type": "stream",
     "text": [
      "hidden=100, learn_rate=0.05, RMSE=0.0710\n"
     ]
    },
    {
     "name": "stderr",
     "output_type": "stream",
     "text": [
      "/Users/yanggezheng/anaconda3/lib/python3.10/site-packages/sklearn/neural_network/_multilayer_perceptron.py:1617: DataConversionWarning: A column-vector y was passed when a 1d array was expected. Please change the shape of y to (n_samples, ), for example using ravel().\n",
      "  y = column_or_1d(y, warn=True)\n"
     ]
    },
    {
     "name": "stdout",
     "output_type": "stream",
     "text": [
      "hidden=100, learn_rate=0.1, RMSE=0.0767\n"
     ]
    },
    {
     "name": "stderr",
     "output_type": "stream",
     "text": [
      "/Users/yanggezheng/anaconda3/lib/python3.10/site-packages/sklearn/neural_network/_multilayer_perceptron.py:1617: DataConversionWarning: A column-vector y was passed when a 1d array was expected. Please change the shape of y to (n_samples, ), for example using ravel().\n",
      "  y = column_or_1d(y, warn=True)\n"
     ]
    },
    {
     "name": "stdout",
     "output_type": "stream",
     "text": [
      "hidden=(100, 100), learn_rate=0.05, RMSE=0.0712\n"
     ]
    },
    {
     "name": "stderr",
     "output_type": "stream",
     "text": [
      "/Users/yanggezheng/anaconda3/lib/python3.10/site-packages/sklearn/neural_network/_multilayer_perceptron.py:1617: DataConversionWarning: A column-vector y was passed when a 1d array was expected. Please change the shape of y to (n_samples, ), for example using ravel().\n",
      "  y = column_or_1d(y, warn=True)\n"
     ]
    },
    {
     "name": "stdout",
     "output_type": "stream",
     "text": [
      "hidden=(100, 100), learn_rate=0.1, RMSE=0.0708\n"
     ]
    },
    {
     "name": "stderr",
     "output_type": "stream",
     "text": [
      "/Users/yanggezheng/anaconda3/lib/python3.10/site-packages/sklearn/neural_network/_multilayer_perceptron.py:1617: DataConversionWarning: A column-vector y was passed when a 1d array was expected. Please change the shape of y to (n_samples, ), for example using ravel().\n",
      "  y = column_or_1d(y, warn=True)\n"
     ]
    },
    {
     "name": "stdout",
     "output_type": "stream",
     "text": [
      "hidden=(100, 100, 100), learn_rate=0.05, RMSE=0.0709\n"
     ]
    },
    {
     "name": "stderr",
     "output_type": "stream",
     "text": [
      "/Users/yanggezheng/anaconda3/lib/python3.10/site-packages/sklearn/neural_network/_multilayer_perceptron.py:1617: DataConversionWarning: A column-vector y was passed when a 1d array was expected. Please change the shape of y to (n_samples, ), for example using ravel().\n",
      "  y = column_or_1d(y, warn=True)\n"
     ]
    },
    {
     "name": "stdout",
     "output_type": "stream",
     "text": [
      "hidden=(100, 100, 100), learn_rate=0.1, RMSE=0.0769\n"
     ]
    }
   ],
   "source": [
    "hidden_layer = [100, (100,100), (100, 100, 100)]\n",
    "learning_rate = [0.05, 0.1]\n",
    "\n",
    "for n in hidden_layer:\n",
    "    for l in learning_rate:\n",
    "        rmse = BMIPredictor(scaled1, y1,n, 'logistic', l)\n",
    "        print(f\"hidden={n}, learn_rate={l}, RMSE={rmse:.4f}\")\n"
   ]
  },
  {
   "attachments": {},
   "cell_type": "markdown",
   "metadata": {},
   "source": [
    "Build and train a neural network of your choice to predict BMI from the rest of your dataset. How low can you get RMSE and what design choices does RMSE seem to depend on?\n",
    "\n",
    "I used the same function built from last question, but this time I changed the number of layers and the learning rate, then I computed the value of RMSE to assess the accuracy of the model\n",
    "\n",
    "I did not include the activation function as one of the variable is that logistic and relu shows the same result and the other two do not fit with the data.\n",
    "\n",
    "The values of RMSE are all around 0.07\n",
    "\n",
    "Based on the results, it can be inferred that the accuracy of the model is not significantly affected by the number of layers or the learning rate used. However, the choice of activation function has a substantial impact on the accuracy of the model, as seen in the previous question."
   ]
  },
  {
   "attachments": {},
   "cell_type": "markdown",
   "metadata": {},
   "source": [
    "6"
   ]
  },
  {
   "cell_type": "code",
   "execution_count": 35,
   "metadata": {},
   "outputs": [
    {
     "name": "stdout",
     "output_type": "stream",
     "text": [
      "GeneralHealth      PhysicalHealth       0.524364\n",
      "                   HardToClimbStairs    0.456920\n",
      "PhysicalHealth     GeneralHealth        0.524364\n",
      "                   HardToClimbStairs    0.478417\n",
      "HardToClimbStairs  GeneralHealth        0.456920\n",
      "                   PhysicalHealth       0.478417\n",
      "EducationBracket   IncomeBracket        0.449106\n",
      "IncomeBracket      EducationBracket     0.449106\n",
      "dtype: float64\n"
     ]
    }
   ],
   "source": [
    "corr_matrix = df.corr()\n",
    "mask = (abs(corr_matrix) >= 0.4) & (corr_matrix != 1)\n",
    "\n",
    "filtered_corr = corr_matrix.where(mask).stack()\n",
    "\n",
    "\n",
    "print(filtered_corr)"
   ]
  },
  {
   "cell_type": "code",
   "execution_count": 42,
   "metadata": {},
   "outputs": [
    {
     "data": {
      "text/html": [
       "<div>\n",
       "<style scoped>\n",
       "    .dataframe tbody tr th:only-of-type {\n",
       "        vertical-align: middle;\n",
       "    }\n",
       "\n",
       "    .dataframe tbody tr th {\n",
       "        vertical-align: top;\n",
       "    }\n",
       "\n",
       "    .dataframe thead th {\n",
       "        text-align: right;\n",
       "    }\n",
       "</style>\n",
       "<table border=\"1\" class=\"dataframe\">\n",
       "  <thead>\n",
       "    <tr style=\"text-align: right;\">\n",
       "      <th></th>\n",
       "      <th>Diabetes</th>\n",
       "      <th>HighBP</th>\n",
       "      <th>HighChol</th>\n",
       "      <th>BMI</th>\n",
       "      <th>Smoker</th>\n",
       "      <th>Stroke</th>\n",
       "      <th>Myocardial</th>\n",
       "      <th>PhysActivity</th>\n",
       "      <th>Fruit</th>\n",
       "      <th>Vegetables</th>\n",
       "      <th>...</th>\n",
       "      <th>NotAbleToAffordDoctor</th>\n",
       "      <th>GeneralHealth</th>\n",
       "      <th>MentalHealth</th>\n",
       "      <th>PhysicalHealth</th>\n",
       "      <th>HardToClimbStairs</th>\n",
       "      <th>BiologicalSex</th>\n",
       "      <th>AgeBracket</th>\n",
       "      <th>EducationBracket</th>\n",
       "      <th>IncomeBracket</th>\n",
       "      <th>Zodiac</th>\n",
       "    </tr>\n",
       "  </thead>\n",
       "  <tbody>\n",
       "    <tr>\n",
       "      <th>0</th>\n",
       "      <td>0</td>\n",
       "      <td>1</td>\n",
       "      <td>1</td>\n",
       "      <td>40</td>\n",
       "      <td>1</td>\n",
       "      <td>0</td>\n",
       "      <td>0</td>\n",
       "      <td>0</td>\n",
       "      <td>0</td>\n",
       "      <td>1</td>\n",
       "      <td>...</td>\n",
       "      <td>0</td>\n",
       "      <td>5</td>\n",
       "      <td>18</td>\n",
       "      <td>15</td>\n",
       "      <td>1</td>\n",
       "      <td>1</td>\n",
       "      <td>9</td>\n",
       "      <td>4</td>\n",
       "      <td>3</td>\n",
       "      <td>10</td>\n",
       "    </tr>\n",
       "    <tr>\n",
       "      <th>1</th>\n",
       "      <td>0</td>\n",
       "      <td>0</td>\n",
       "      <td>0</td>\n",
       "      <td>25</td>\n",
       "      <td>1</td>\n",
       "      <td>0</td>\n",
       "      <td>0</td>\n",
       "      <td>1</td>\n",
       "      <td>0</td>\n",
       "      <td>0</td>\n",
       "      <td>...</td>\n",
       "      <td>1</td>\n",
       "      <td>3</td>\n",
       "      <td>0</td>\n",
       "      <td>0</td>\n",
       "      <td>0</td>\n",
       "      <td>1</td>\n",
       "      <td>7</td>\n",
       "      <td>6</td>\n",
       "      <td>1</td>\n",
       "      <td>11</td>\n",
       "    </tr>\n",
       "    <tr>\n",
       "      <th>2</th>\n",
       "      <td>0</td>\n",
       "      <td>1</td>\n",
       "      <td>1</td>\n",
       "      <td>28</td>\n",
       "      <td>0</td>\n",
       "      <td>0</td>\n",
       "      <td>0</td>\n",
       "      <td>0</td>\n",
       "      <td>1</td>\n",
       "      <td>0</td>\n",
       "      <td>...</td>\n",
       "      <td>1</td>\n",
       "      <td>5</td>\n",
       "      <td>30</td>\n",
       "      <td>30</td>\n",
       "      <td>1</td>\n",
       "      <td>1</td>\n",
       "      <td>9</td>\n",
       "      <td>4</td>\n",
       "      <td>8</td>\n",
       "      <td>2</td>\n",
       "    </tr>\n",
       "    <tr>\n",
       "      <th>3</th>\n",
       "      <td>0</td>\n",
       "      <td>1</td>\n",
       "      <td>0</td>\n",
       "      <td>27</td>\n",
       "      <td>0</td>\n",
       "      <td>0</td>\n",
       "      <td>0</td>\n",
       "      <td>1</td>\n",
       "      <td>1</td>\n",
       "      <td>1</td>\n",
       "      <td>...</td>\n",
       "      <td>0</td>\n",
       "      <td>2</td>\n",
       "      <td>0</td>\n",
       "      <td>0</td>\n",
       "      <td>0</td>\n",
       "      <td>1</td>\n",
       "      <td>11</td>\n",
       "      <td>3</td>\n",
       "      <td>6</td>\n",
       "      <td>11</td>\n",
       "    </tr>\n",
       "    <tr>\n",
       "      <th>4</th>\n",
       "      <td>0</td>\n",
       "      <td>1</td>\n",
       "      <td>1</td>\n",
       "      <td>24</td>\n",
       "      <td>0</td>\n",
       "      <td>0</td>\n",
       "      <td>0</td>\n",
       "      <td>1</td>\n",
       "      <td>1</td>\n",
       "      <td>1</td>\n",
       "      <td>...</td>\n",
       "      <td>0</td>\n",
       "      <td>2</td>\n",
       "      <td>3</td>\n",
       "      <td>0</td>\n",
       "      <td>0</td>\n",
       "      <td>1</td>\n",
       "      <td>11</td>\n",
       "      <td>5</td>\n",
       "      <td>4</td>\n",
       "      <td>8</td>\n",
       "    </tr>\n",
       "  </tbody>\n",
       "</table>\n",
       "<p>5 rows × 22 columns</p>\n",
       "</div>"
      ],
      "text/plain": [
       "   Diabetes  HighBP  HighChol  BMI  Smoker  Stroke  Myocardial  PhysActivity  \\\n",
       "0         0       1         1   40       1       0           0             0   \n",
       "1         0       0         0   25       1       0           0             1   \n",
       "2         0       1         1   28       0       0           0             0   \n",
       "3         0       1         0   27       0       0           0             1   \n",
       "4         0       1         1   24       0       0           0             1   \n",
       "\n",
       "   Fruit  Vegetables  ...  NotAbleToAffordDoctor  GeneralHealth  MentalHealth  \\\n",
       "0      0           1  ...                      0              5            18   \n",
       "1      0           0  ...                      1              3             0   \n",
       "2      1           0  ...                      1              5            30   \n",
       "3      1           1  ...                      0              2             0   \n",
       "4      1           1  ...                      0              2             3   \n",
       "\n",
       "   PhysicalHealth  HardToClimbStairs  BiologicalSex  AgeBracket  \\\n",
       "0              15                  1              1           9   \n",
       "1               0                  0              1           7   \n",
       "2              30                  1              1           9   \n",
       "3               0                  0              1          11   \n",
       "4               0                  0              1          11   \n",
       "\n",
       "   EducationBracket  IncomeBracket  Zodiac  \n",
       "0                 4              3      10  \n",
       "1                 6              1      11  \n",
       "2                 4              8       2  \n",
       "3                 3              6      11  \n",
       "4                 5              4       8  \n",
       "\n",
       "[5 rows x 22 columns]"
      ]
     },
     "execution_count": 42,
     "metadata": {},
     "output_type": "execute_result"
    }
   ],
   "source": [
    "df.head(5)"
   ]
  },
  {
   "cell_type": "code",
   "execution_count": 36,
   "metadata": {},
   "outputs": [],
   "source": [
    "columns_to_drop = ['IncomeBracket','HardToClimbStairs','PhysActivity', 'GeneralHealth', 'PhysicalHealth','MentalHealth']\n",
    "df1 = df.drop(columns=columns_to_drop)"
   ]
  },
  {
   "cell_type": "code",
   "execution_count": 37,
   "metadata": {},
   "outputs": [],
   "source": [
    "predictors = list(df1.columns)\n",
    "predictors.remove('Diabetes')\n",
    "predictors1 = list(df1.columns)\n",
    "predictors1.remove('BMI')\n",
    "X = df1[predictors]\n",
    "y = df1['Diabetes']\n",
    "X1 = df1[predictors1]\n",
    "y1 = df1['BMI']\n",
    "scaled = StandardScaler().fit_transform(X)\n",
    "scaled = pd.DataFrame(scaled, columns=X.columns)\n",
    "scaled1 = StandardScaler().fit_transform(X1)\n",
    "scaled1 = pd.DataFrame(scaled1, columns=X1.columns)\n",
    "x_train, x_test, y_train, y_test = train_test_split(X, y, test_size=0.3, random_state=0)\n",
    "x_train1, x_test1, y_train1, y_test1 = train_test_split(X1, y1, test_size=0.3, random_state=0)"
   ]
  },
  {
   "cell_type": "code",
   "execution_count": 38,
   "metadata": {},
   "outputs": [],
   "source": [
    "from sklearn.neural_network import MLPRegressor\n",
    "from sklearn.metrics import mean_squared_error\n",
    "def MLPPredictor(scaled1,y1,name,num, activation, lr):\n",
    "    X_train1, X_test1, y_train1, y_test1 = train_test_split(scaled1, y1, test_size=0.3, random_state=0)\n",
    "    mlp = MLPRegressor(hidden_layer_sizes=num, activation=activation, solver= 'adam', max_iter=200, learning_rate_init=lr)\n",
    "    mlp.fit(X_train1, y_train1)\n",
    "    if name != '':\n",
    "        print(f'After dropping {name}:')\n",
    "    y_pred = mlp.predict(X_test1)\n",
    "    print('rmse: ',mean_squared_error(y_test1, y_pred, squared=False))"
   ]
  },
  {
   "cell_type": "code",
   "execution_count": 12,
   "metadata": {},
   "outputs": [
    {
     "name": "stdout",
     "output_type": "stream",
     "text": [
      "rmse:  0.3300032573685665\n",
      "After dropping HighBP:\n",
      "rmse:  0.3498361827060645\n",
      "After dropping HighChol:\n",
      "rmse:  0.34975850466481045\n",
      "After dropping BMI:\n",
      "rmse:  0.3486268465244555\n",
      "After dropping Smoker:\n",
      "rmse:  0.34852056844209717\n",
      "After dropping Stroke:\n",
      "rmse:  0.349803570414535\n",
      "After dropping Myocardial:\n",
      "rmse:  0.350209224741946\n",
      "After dropping Fruit:\n",
      "rmse:  0.3244663575707566\n",
      "After dropping Vegetables:\n",
      "rmse:  0.3485574770714167\n",
      "After dropping HeavyDrinker:\n",
      "rmse:  0.34846398459788436\n",
      "After dropping HasHealthcare:\n",
      "rmse:  0.34851372418996196\n",
      "After dropping NotAbleToAffordDoctor:\n",
      "rmse:  0.3541547063885861\n",
      "After dropping BiologicalSex:\n",
      "rmse:  0.34838042763411525\n",
      "After dropping AgeBracket:\n",
      "rmse:  0.3484328917553216\n",
      "After dropping EducationBracket:\n",
      "rmse:  0.34967164459289735\n",
      "After dropping Zodiac:\n",
      "rmse:  0.3483818577087824\n"
     ]
    }
   ],
   "source": [
    "\n",
    "model1 = MLPPredictor(scaled, y, '',100,'relu',0.1)\n",
    "for i in range(len(predictors)):\n",
    "    temp = predictors[:]\n",
    "    temp.pop(i)\n",
    "    model2 = MLPPredictor(df[temp], y,predictors[i],100,'relu',0.1)"
   ]
  },
  {
   "cell_type": "code",
   "execution_count": 39,
   "metadata": {},
   "outputs": [
    {
     "name": "stderr",
     "output_type": "stream",
     "text": [
      "/Users/yanggezheng/anaconda3/lib/python3.10/site-packages/sklearn/neural_network/_multilayer_perceptron.py:1617: DataConversionWarning: A column-vector y was passed when a 1d array was expected. Please change the shape of y to (n_samples, ), for example using ravel().\n",
      "  y = column_or_1d(y, warn=True)\n"
     ]
    },
    {
     "name": "stdout",
     "output_type": "stream",
     "text": [
      "rmse:  0.07801928794377691\n"
     ]
    },
    {
     "name": "stderr",
     "output_type": "stream",
     "text": [
      "/Users/yanggezheng/anaconda3/lib/python3.10/site-packages/sklearn/neural_network/_multilayer_perceptron.py:1617: DataConversionWarning: A column-vector y was passed when a 1d array was expected. Please change the shape of y to (n_samples, ), for example using ravel().\n",
      "  y = column_or_1d(y, warn=True)\n"
     ]
    },
    {
     "name": "stdout",
     "output_type": "stream",
     "text": [
      "After dropping Diabetes:\n",
      "rmse:  0.07656463805586343\n"
     ]
    },
    {
     "name": "stderr",
     "output_type": "stream",
     "text": [
      "/Users/yanggezheng/anaconda3/lib/python3.10/site-packages/sklearn/neural_network/_multilayer_perceptron.py:1617: DataConversionWarning: A column-vector y was passed when a 1d array was expected. Please change the shape of y to (n_samples, ), for example using ravel().\n",
      "  y = column_or_1d(y, warn=True)\n"
     ]
    },
    {
     "name": "stdout",
     "output_type": "stream",
     "text": [
      "After dropping HighBP:\n",
      "rmse:  0.07726927691104807\n"
     ]
    },
    {
     "name": "stderr",
     "output_type": "stream",
     "text": [
      "/Users/yanggezheng/anaconda3/lib/python3.10/site-packages/sklearn/neural_network/_multilayer_perceptron.py:1617: DataConversionWarning: A column-vector y was passed when a 1d array was expected. Please change the shape of y to (n_samples, ), for example using ravel().\n",
      "  y = column_or_1d(y, warn=True)\n"
     ]
    },
    {
     "name": "stdout",
     "output_type": "stream",
     "text": [
      "After dropping HighChol:\n",
      "rmse:  0.07883283256810769\n"
     ]
    },
    {
     "name": "stderr",
     "output_type": "stream",
     "text": [
      "/Users/yanggezheng/anaconda3/lib/python3.10/site-packages/sklearn/neural_network/_multilayer_perceptron.py:1617: DataConversionWarning: A column-vector y was passed when a 1d array was expected. Please change the shape of y to (n_samples, ), for example using ravel().\n",
      "  y = column_or_1d(y, warn=True)\n"
     ]
    },
    {
     "name": "stdout",
     "output_type": "stream",
     "text": [
      "After dropping Smoker:\n",
      "rmse:  0.07660534550375407\n"
     ]
    },
    {
     "name": "stderr",
     "output_type": "stream",
     "text": [
      "/Users/yanggezheng/anaconda3/lib/python3.10/site-packages/sklearn/neural_network/_multilayer_perceptron.py:1617: DataConversionWarning: A column-vector y was passed when a 1d array was expected. Please change the shape of y to (n_samples, ), for example using ravel().\n",
      "  y = column_or_1d(y, warn=True)\n"
     ]
    },
    {
     "name": "stdout",
     "output_type": "stream",
     "text": [
      "After dropping Stroke:\n",
      "rmse:  0.07668690216847175\n"
     ]
    },
    {
     "name": "stderr",
     "output_type": "stream",
     "text": [
      "/Users/yanggezheng/anaconda3/lib/python3.10/site-packages/sklearn/neural_network/_multilayer_perceptron.py:1617: DataConversionWarning: A column-vector y was passed when a 1d array was expected. Please change the shape of y to (n_samples, ), for example using ravel().\n",
      "  y = column_or_1d(y, warn=True)\n"
     ]
    },
    {
     "name": "stdout",
     "output_type": "stream",
     "text": [
      "After dropping Myocardial:\n",
      "rmse:  0.07756682674803089\n"
     ]
    },
    {
     "name": "stderr",
     "output_type": "stream",
     "text": [
      "/Users/yanggezheng/anaconda3/lib/python3.10/site-packages/sklearn/neural_network/_multilayer_perceptron.py:1617: DataConversionWarning: A column-vector y was passed when a 1d array was expected. Please change the shape of y to (n_samples, ), for example using ravel().\n",
      "  y = column_or_1d(y, warn=True)\n"
     ]
    },
    {
     "name": "stdout",
     "output_type": "stream",
     "text": [
      "After dropping Fruit:\n",
      "rmse:  0.07656188109703824\n"
     ]
    },
    {
     "name": "stderr",
     "output_type": "stream",
     "text": [
      "/Users/yanggezheng/anaconda3/lib/python3.10/site-packages/sklearn/neural_network/_multilayer_perceptron.py:1617: DataConversionWarning: A column-vector y was passed when a 1d array was expected. Please change the shape of y to (n_samples, ), for example using ravel().\n",
      "  y = column_or_1d(y, warn=True)\n"
     ]
    },
    {
     "name": "stdout",
     "output_type": "stream",
     "text": [
      "After dropping Vegetables:\n",
      "rmse:  0.0739367324658226\n"
     ]
    },
    {
     "name": "stderr",
     "output_type": "stream",
     "text": [
      "/Users/yanggezheng/anaconda3/lib/python3.10/site-packages/sklearn/neural_network/_multilayer_perceptron.py:1617: DataConversionWarning: A column-vector y was passed when a 1d array was expected. Please change the shape of y to (n_samples, ), for example using ravel().\n",
      "  y = column_or_1d(y, warn=True)\n"
     ]
    },
    {
     "name": "stdout",
     "output_type": "stream",
     "text": [
      "After dropping HeavyDrinker:\n",
      "rmse:  0.07681993014052782\n"
     ]
    },
    {
     "name": "stderr",
     "output_type": "stream",
     "text": [
      "/Users/yanggezheng/anaconda3/lib/python3.10/site-packages/sklearn/neural_network/_multilayer_perceptron.py:1617: DataConversionWarning: A column-vector y was passed when a 1d array was expected. Please change the shape of y to (n_samples, ), for example using ravel().\n",
      "  y = column_or_1d(y, warn=True)\n"
     ]
    },
    {
     "name": "stdout",
     "output_type": "stream",
     "text": [
      "After dropping HasHealthcare:\n",
      "rmse:  0.07727313654547718\n"
     ]
    },
    {
     "name": "stderr",
     "output_type": "stream",
     "text": [
      "/Users/yanggezheng/anaconda3/lib/python3.10/site-packages/sklearn/neural_network/_multilayer_perceptron.py:1617: DataConversionWarning: A column-vector y was passed when a 1d array was expected. Please change the shape of y to (n_samples, ), for example using ravel().\n",
      "  y = column_or_1d(y, warn=True)\n"
     ]
    },
    {
     "name": "stdout",
     "output_type": "stream",
     "text": [
      "After dropping NotAbleToAffordDoctor:\n",
      "rmse:  0.07656075713822967\n"
     ]
    },
    {
     "name": "stderr",
     "output_type": "stream",
     "text": [
      "/Users/yanggezheng/anaconda3/lib/python3.10/site-packages/sklearn/neural_network/_multilayer_perceptron.py:1617: DataConversionWarning: A column-vector y was passed when a 1d array was expected. Please change the shape of y to (n_samples, ), for example using ravel().\n",
      "  y = column_or_1d(y, warn=True)\n"
     ]
    },
    {
     "name": "stdout",
     "output_type": "stream",
     "text": [
      "After dropping BiologicalSex:\n",
      "rmse:  0.07658336165948061\n"
     ]
    },
    {
     "name": "stderr",
     "output_type": "stream",
     "text": [
      "/Users/yanggezheng/anaconda3/lib/python3.10/site-packages/sklearn/neural_network/_multilayer_perceptron.py:1617: DataConversionWarning: A column-vector y was passed when a 1d array was expected. Please change the shape of y to (n_samples, ), for example using ravel().\n",
      "  y = column_or_1d(y, warn=True)\n"
     ]
    },
    {
     "name": "stdout",
     "output_type": "stream",
     "text": [
      "After dropping AgeBracket:\n",
      "rmse:  0.07697459466728392\n"
     ]
    },
    {
     "name": "stderr",
     "output_type": "stream",
     "text": [
      "/Users/yanggezheng/anaconda3/lib/python3.10/site-packages/sklearn/neural_network/_multilayer_perceptron.py:1617: DataConversionWarning: A column-vector y was passed when a 1d array was expected. Please change the shape of y to (n_samples, ), for example using ravel().\n",
      "  y = column_or_1d(y, warn=True)\n"
     ]
    },
    {
     "name": "stdout",
     "output_type": "stream",
     "text": [
      "After dropping EducationBracket:\n",
      "rmse:  0.07919968841294536\n"
     ]
    },
    {
     "name": "stderr",
     "output_type": "stream",
     "text": [
      "/Users/yanggezheng/anaconda3/lib/python3.10/site-packages/sklearn/neural_network/_multilayer_perceptron.py:1617: DataConversionWarning: A column-vector y was passed when a 1d array was expected. Please change the shape of y to (n_samples, ), for example using ravel().\n",
      "  y = column_or_1d(y, warn=True)\n"
     ]
    },
    {
     "name": "stdout",
     "output_type": "stream",
     "text": [
      "After dropping Zodiac:\n",
      "rmse:  0.07737083805752383\n"
     ]
    }
   ],
   "source": [
    "from sklearn.neural_network import MLPRegressor\n",
    "y1 = scaler.fit_transform(y1.values.reshape(-1, 1))\n",
    "model1 = MLPPredictor(scaled1, y1, '',100,'relu',0.1)\n",
    "for i in range(len(predictors1)):\n",
    "    temp = predictors1[:]\n",
    "    temp.pop(i)\n",
    "    model2 = MLPPredictor(df[temp], y1,predictors1[i],100,'relu',0.1)"
   ]
  },
  {
   "attachments": {},
   "cell_type": "markdown",
   "metadata": {},
   "source": [
    "Are there any predictors/features that have effectively no impact on the accuracy of these models? If so, please list them and comment briefly on your findings\n",
    "\n",
    "I first looked at the relationship between each data item and dropped some highly correlated columns such as GeneralHealth and MentalHealth, and I also dropped some self-tested columns such as Hard to climb stairs.\n",
    "\n",
    "As people have unique perspectives and experiences, their assessment of their own health can vary. For instance, one individual in the dataset might have risk factors such as high blood pressure, high cholesterol, smoking, physical inactivity, fruit deficiency, and high BMI, yet still rate their overall health as \"very healthy\" on a 5-point scale.\n",
    "\n",
    "To evaluate the impact of each predictor, I ran the analysis with all predictors and then removed one predictor at a time to observe the changes. It was observed that BMI and diabetes were significant predictors in both scenarios. However, the predictors Zodiac, HasHealthcare, and Vegetables showed minimal effects on the outcome."
   ]
  },
  {
   "attachments": {},
   "cell_type": "markdown",
   "metadata": {},
   "source": [
    "7\n",
    "\n",
    "Neural networks have several advantages over traditional machine learning models such as logistic regression, random forests, decision trees, and adaboost_classification. \n",
    "\n",
    "For example, they are better suited to handle complex and nonlinear relationships between features, and can learn from large and unstructured data, while also generalizing well to new data. However, training neural networks can be computationally expensive and require more data and resources than other models.(mentioned in question 3) In contrast, logistic regression, random forests, decision trees, and adaboost_classification require fewer computational resources, but may not perform as well as neural networks when dealing with complex data. \n",
    "\n",
    "In this homework, the data were not too big complex nor huge. I can not really tell which one is better. The values of AUC and RMSE are pretty close. Ultimately, the choice of model depends on the specific problem and available data."
   ]
  },
  {
   "cell_type": "code",
   "execution_count": null,
   "metadata": {},
   "outputs": [],
   "source": []
  }
 ],
 "metadata": {
  "kernelspec": {
   "display_name": "base",
   "language": "python",
   "name": "python3"
  },
  "language_info": {
   "codemirror_mode": {
    "name": "ipython",
    "version": 3
   },
   "file_extension": ".py",
   "mimetype": "text/x-python",
   "name": "python",
   "nbconvert_exporter": "python",
   "pygments_lexer": "ipython3",
   "version": "3.10.10"
  },
  "orig_nbformat": 4
 },
 "nbformat": 4,
 "nbformat_minor": 2
}
